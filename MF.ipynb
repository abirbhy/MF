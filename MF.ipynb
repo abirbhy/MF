{
  "nbformat": 4,
  "nbformat_minor": 0,
  "metadata": {
    "colab": {
      "name": "MF.ipynb",
      "provenance": [],
      "toc_visible": true,
      "authorship_tag": "ABX9TyOo4Dl0JOej8gkAdCUjU43g",
      "include_colab_link": true
    },
    "kernelspec": {
      "name": "python3",
      "display_name": "Python 3"
    }
  },
  "cells": [
    {
      "cell_type": "markdown",
      "metadata": {
        "id": "view-in-github",
        "colab_type": "text"
      },
      "source": [
        "<a href=\"https://colab.research.google.com/github/abirbhy/MF/blob/main/MF.ipynb\" target=\"_parent\"><img src=\"https://colab.research.google.com/assets/colab-badge.svg\" alt=\"Open In Colab\"/></a>"
      ]
    },
    {
      "cell_type": "markdown",
      "metadata": {
        "id": "PWMfKDHoCRbj"
      },
      "source": [
        "Risk Scoring Process\r\n",
        "\r\n",
        "1) Identify the risk factors that you want to assess a subject against. These risk factors can be internal or external, qualitative or quantitative, strategic or operational — dependant upon the specific use case\r\n",
        "\r\n",
        "2) The final list of short-listed risk factors are included in the scorecard\r\n",
        "\r\n",
        "3) Each factor is assigned a maximum numerical score (weight) based either on expert judgment or established policies that assign higher weightage to factors that are more important or critical\r\n",
        "\r\n",
        "4) Usually, the analyst scores each factor (out of the maximum possible score) based on documented criteria or his/her perception of risk. However, to maintain objectivity, audit trail, and uniformity across scores, it is best practice to have closed-ended possible options for each factor. Each option has its respective numerical points. The score assigned to a factor will then be equal to an option’s points as applicable\r\n",
        "\r\n",
        "5) The final score is then either a simple or a weighted average sum of all the individual factor scores\r\n",
        "\r\n",
        "6) The final risk score is generally mapped to risk levels for decision-making purposes. For example, the top 10% of the scores can be classified as Low Risk while the bottom 10% as High Risk"
      ]
    },
    {
      "cell_type": "markdown",
      "metadata": {
        "id": "uxan2HtbKr7W"
      },
      "source": [
        "Credit Scoring Factors\r\n",
        "\r\n",
        "1) Repayment history: whether the amount due was settled in time or not\r\n",
        "\r\n",
        "2) The total amount owed: total outstanding balance, usually as a percentage of the total credit limit\r\n",
        "\r\n",
        "3) Length of credit history: when was the first credit line opened. A general criterion is that the longer an individual has had credit, the better will be his credit score\r\n",
        "\r\n",
        "4) Types of credit lines: does the consumer has only one kind of credit line (e.g., only mortgage) or a good mix of retail loans, credit cards, mortgage, and vehicle finance\r\n",
        "\r\n",
        "5) New credit lines: number of new credit lines opened in a short amount of time is generally looked unfavorable\r\n",
        "\r\n",
        "6) Available credit: unutilized balance on open credit lines"
      ]
    },
    {
      "cell_type": "code",
      "metadata": {
        "colab": {
          "base_uri": "https://localhost:8080/"
        },
        "id": "gkNg__Dx96up",
        "outputId": "e32d9ab2-2756-4b40-eb4f-4a168c2b5240"
      },
      "source": [
        "from google.colab import drive\r\n",
        "drive.mount('/content/drive')"
      ],
      "execution_count": 1,
      "outputs": [
        {
          "output_type": "stream",
          "text": [
            "Mounted at /content/drive\n"
          ],
          "name": "stdout"
        }
      ]
    },
    {
      "cell_type": "code",
      "metadata": {
        "id": "2EnOcA66EMR5"
      },
      "source": [
        ""
      ],
      "execution_count": null,
      "outputs": []
    }
  ]
}